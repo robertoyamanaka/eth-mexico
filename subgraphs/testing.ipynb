{
 "cells": [
  {
   "cell_type": "code",
   "execution_count": 6,
   "metadata": {},
   "outputs": [
    {
     "ename": "IndentationError",
     "evalue": "unexpected indent (2688119437.py, line 2)",
     "output_type": "error",
     "traceback": [
      "\u001b[0;36m  Input \u001b[0;32mIn [6]\u001b[0;36m\u001b[0m\n\u001b[0;31m    --from-contract <0x4d224452801ACEd8B2F0aebE155379bb5D594381> \\\u001b[0m\n\u001b[0m    ^\u001b[0m\n\u001b[0;31mIndentationError\u001b[0m\u001b[0;31m:\u001b[0m unexpected indent\n"
     ]
    }
   ],
   "source": [
    "graph init \\\n",
    "  --product subgraph-studio\n",
    "  --from-contract 0x4d224452801ACEd8B2F0aebE155379bb5D594381 \\\n",
    "  --network ethereum \\\n",
    "  <SUBGRAPH_SLUG> [<DIRECTORY>] -- args ethereum\n"
   ]
  },
  {
   "cell_type": "code",
   "execution_count": null,
   "metadata": {},
   "outputs": [],
   "source": [
    "ethereum # Protocol (es con down)\n",
    "lucky-3 # Subgraph slug\n",
    "lucky-3 # Directory to create the subgraph in\n",
    "mainnet # Ethereum Network\n",
    "0x2b867efD2dE4Ad2B583Ca0CB3dF9C4040Ef4D329 # Contract address\n",
    "LuckyBlockToken # Contract Name\n",
    "false # Add another contract?"
   ]
  },
  {
   "cell_type": "code",
   "execution_count": 26,
   "metadata": {},
   "outputs": [],
   "source": [
    "from selenium import webdriver\n",
    "from webdriver_manager.chrome import ChromeDriverManager"
   ]
  },
  {
   "cell_type": "code",
   "execution_count": 32,
   "metadata": {},
   "outputs": [
    {
     "name": "stderr",
     "output_type": "stream",
     "text": [
      "/var/folders/8x/9rbcgb1x2472px6f0tsxdkn80000gn/T/ipykernel_25402/2321053989.py:5: DeprecationWarning: executable_path has been deprecated, please pass in a Service object\n",
      "  driver = webdriver.Chrome(ChromeDriverManager().install())\n"
     ]
    }
   ],
   "source": [
    "EXTENSION_PATH = '/Users/gerardogodfreyc/Library/Application Support/Google/Chrome/Profile 3/Extensions/nkbihfbeogaeaoehlefnkodbefgpgknn/10.18.3_0.crx'\n",
    "\n",
    "opt = webdriver.ChromeOptions()\n",
    "opt.add_extension(EXTENSION_PATH)\n",
    "driver = webdriver.Chrome(ChromeDriverManager().install())"
   ]
  },
  {
   "cell_type": "code",
   "execution_count": 30,
   "metadata": {},
   "outputs": [
    {
     "ename": "InvalidArgumentException",
     "evalue": "Message: invalid argument: invalid locator\n  (Session info: chrome=104.0.5112.101)\nStacktrace:\n0   chromedriver                        0x000000010c09d149 chromedriver + 4469065\n1   chromedriver                        0x000000010c027233 chromedriver + 3985971\n2   chromedriver                        0x000000010bcbdfe8 chromedriver + 409576\n3   chromedriver                        0x000000010bcf3cb4 chromedriver + 629940\n4   chromedriver                        0x000000010bcf4451 chromedriver + 631889\n5   chromedriver                        0x000000010bd268f4 chromedriver + 837876\n6   chromedriver                        0x000000010bd11c8d chromedriver + 752781\n7   chromedriver                        0x000000010bd24611 chromedriver + 828945\n8   chromedriver                        0x000000010bd11b53 chromedriver + 752467\n9   chromedriver                        0x000000010bce7905 chromedriver + 579845\n10  chromedriver                        0x000000010bce8955 chromedriver + 584021\n11  chromedriver                        0x000000010c06e6ad chromedriver + 4277933\n12  chromedriver                        0x000000010c072b3a chromedriver + 4295482\n13  chromedriver                        0x000000010c077cdf chromedriver + 4316383\n14  chromedriver                        0x000000010c073857 chromedriver + 4298839\n15  chromedriver                        0x000000010c04c64f chromedriver + 4138575\n16  chromedriver                        0x000000010c08e1f8 chromedriver + 4407800\n17  chromedriver                        0x000000010c08e37f chromedriver + 4408191\n18  chromedriver                        0x000000010c0a4cb5 chromedriver + 4500661\n19  libsystem_pthread.dylib             0x00007fff6c3aa109 _pthread_start + 148\n20  libsystem_pthread.dylib             0x00007fff6c3a5b8b thread_start + 15\n",
     "output_type": "error",
     "traceback": [
      "\u001b[0;31m---------------------------------------------------------------------------\u001b[0m",
      "\u001b[0;31mInvalidArgumentException\u001b[0m                  Traceback (most recent call last)",
      "\u001b[1;32m/Users/gerardogodfreyc/Documents/Proyectos/ETH_Hackaton/eth-mexico/subgraphs/testing.ipynb Celda 5\u001b[0m in \u001b[0;36m<cell line: 1>\u001b[0;34m()\u001b[0m\n\u001b[0;32m----> <a href='vscode-notebook-cell:/Users/gerardogodfreyc/Documents/Proyectos/ETH_Hackaton/eth-mexico/subgraphs/testing.ipynb#X12sZmlsZQ%3D%3D?line=0'>1</a>\u001b[0m driver\u001b[39m.\u001b[39;49mfind_element(\u001b[39m'\u001b[39;49m\u001b[39m//button[text()=\u001b[39;49m\u001b[39m\"\u001b[39;49m\u001b[39mGet Started\u001b[39;49m\u001b[39m\"\u001b[39;49m\u001b[39m]\u001b[39;49m\u001b[39m'\u001b[39;49m)\u001b[39m.\u001b[39mclick()\n\u001b[1;32m      <a href='vscode-notebook-cell:/Users/gerardogodfreyc/Documents/Proyectos/ETH_Hackaton/eth-mexico/subgraphs/testing.ipynb#X12sZmlsZQ%3D%3D?line=1'>2</a>\u001b[0m driver\u001b[39m.\u001b[39mfind_element_by_xpath(\u001b[39m'\u001b[39m\u001b[39m//button[text()=\u001b[39m\u001b[39m\"\u001b[39m\u001b[39mImport wallet\u001b[39m\u001b[39m\"\u001b[39m\u001b[39m]\u001b[39m\u001b[39m'\u001b[39m)\u001b[39m.\u001b[39mclick()\n\u001b[1;32m      <a href='vscode-notebook-cell:/Users/gerardogodfreyc/Documents/Proyectos/ETH_Hackaton/eth-mexico/subgraphs/testing.ipynb#X12sZmlsZQ%3D%3D?line=2'>3</a>\u001b[0m driver\u001b[39m.\u001b[39mfind_element_by_xpath(\u001b[39m'\u001b[39m\u001b[39m//button[text()=\u001b[39m\u001b[39m\"\u001b[39m\u001b[39mNo Thanks\u001b[39m\u001b[39m\"\u001b[39m\u001b[39m]\u001b[39m\u001b[39m'\u001b[39m)\u001b[39m.\u001b[39mclick()\n",
      "File \u001b[0;32m~/.pyenv/versions/3.9.10/envs/bot_crypto/lib/python3.9/site-packages/selenium/webdriver/remote/webdriver.py:855\u001b[0m, in \u001b[0;36mWebDriver.find_element\u001b[0;34m(self, by, value)\u001b[0m\n\u001b[1;32m    852\u001b[0m     by \u001b[39m=\u001b[39m By\u001b[39m.\u001b[39mCSS_SELECTOR\n\u001b[1;32m    853\u001b[0m     value \u001b[39m=\u001b[39m \u001b[39m'\u001b[39m\u001b[39m[name=\u001b[39m\u001b[39m\"\u001b[39m\u001b[39m%s\u001b[39;00m\u001b[39m\"\u001b[39m\u001b[39m]\u001b[39m\u001b[39m'\u001b[39m \u001b[39m%\u001b[39m value\n\u001b[0;32m--> 855\u001b[0m \u001b[39mreturn\u001b[39;00m \u001b[39mself\u001b[39;49m\u001b[39m.\u001b[39;49mexecute(Command\u001b[39m.\u001b[39;49mFIND_ELEMENT, {\n\u001b[1;32m    856\u001b[0m     \u001b[39m'\u001b[39;49m\u001b[39musing\u001b[39;49m\u001b[39m'\u001b[39;49m: by,\n\u001b[1;32m    857\u001b[0m     \u001b[39m'\u001b[39;49m\u001b[39mvalue\u001b[39;49m\u001b[39m'\u001b[39;49m: value})[\u001b[39m'\u001b[39m\u001b[39mvalue\u001b[39m\u001b[39m'\u001b[39m]\n",
      "File \u001b[0;32m~/.pyenv/versions/3.9.10/envs/bot_crypto/lib/python3.9/site-packages/selenium/webdriver/remote/webdriver.py:428\u001b[0m, in \u001b[0;36mWebDriver.execute\u001b[0;34m(self, driver_command, params)\u001b[0m\n\u001b[1;32m    426\u001b[0m response \u001b[39m=\u001b[39m \u001b[39mself\u001b[39m\u001b[39m.\u001b[39mcommand_executor\u001b[39m.\u001b[39mexecute(driver_command, params)\n\u001b[1;32m    427\u001b[0m \u001b[39mif\u001b[39;00m response:\n\u001b[0;32m--> 428\u001b[0m     \u001b[39mself\u001b[39;49m\u001b[39m.\u001b[39;49merror_handler\u001b[39m.\u001b[39;49mcheck_response(response)\n\u001b[1;32m    429\u001b[0m     response[\u001b[39m'\u001b[39m\u001b[39mvalue\u001b[39m\u001b[39m'\u001b[39m] \u001b[39m=\u001b[39m \u001b[39mself\u001b[39m\u001b[39m.\u001b[39m_unwrap_value(\n\u001b[1;32m    430\u001b[0m         response\u001b[39m.\u001b[39mget(\u001b[39m'\u001b[39m\u001b[39mvalue\u001b[39m\u001b[39m'\u001b[39m, \u001b[39mNone\u001b[39;00m))\n\u001b[1;32m    431\u001b[0m     \u001b[39mreturn\u001b[39;00m response\n",
      "File \u001b[0;32m~/.pyenv/versions/3.9.10/envs/bot_crypto/lib/python3.9/site-packages/selenium/webdriver/remote/errorhandler.py:243\u001b[0m, in \u001b[0;36mErrorHandler.check_response\u001b[0;34m(self, response)\u001b[0m\n\u001b[1;32m    241\u001b[0m         alert_text \u001b[39m=\u001b[39m value[\u001b[39m'\u001b[39m\u001b[39malert\u001b[39m\u001b[39m'\u001b[39m]\u001b[39m.\u001b[39mget(\u001b[39m'\u001b[39m\u001b[39mtext\u001b[39m\u001b[39m'\u001b[39m)\n\u001b[1;32m    242\u001b[0m     \u001b[39mraise\u001b[39;00m exception_class(message, screen, stacktrace, alert_text)  \u001b[39m# type: ignore[call-arg]  # mypy is not smart enough here\u001b[39;00m\n\u001b[0;32m--> 243\u001b[0m \u001b[39mraise\u001b[39;00m exception_class(message, screen, stacktrace)\n",
      "\u001b[0;31mInvalidArgumentException\u001b[0m: Message: invalid argument: invalid locator\n  (Session info: chrome=104.0.5112.101)\nStacktrace:\n0   chromedriver                        0x000000010c09d149 chromedriver + 4469065\n1   chromedriver                        0x000000010c027233 chromedriver + 3985971\n2   chromedriver                        0x000000010bcbdfe8 chromedriver + 409576\n3   chromedriver                        0x000000010bcf3cb4 chromedriver + 629940\n4   chromedriver                        0x000000010bcf4451 chromedriver + 631889\n5   chromedriver                        0x000000010bd268f4 chromedriver + 837876\n6   chromedriver                        0x000000010bd11c8d chromedriver + 752781\n7   chromedriver                        0x000000010bd24611 chromedriver + 828945\n8   chromedriver                        0x000000010bd11b53 chromedriver + 752467\n9   chromedriver                        0x000000010bce7905 chromedriver + 579845\n10  chromedriver                        0x000000010bce8955 chromedriver + 584021\n11  chromedriver                        0x000000010c06e6ad chromedriver + 4277933\n12  chromedriver                        0x000000010c072b3a chromedriver + 4295482\n13  chromedriver                        0x000000010c077cdf chromedriver + 4316383\n14  chromedriver                        0x000000010c073857 chromedriver + 4298839\n15  chromedriver                        0x000000010c04c64f chromedriver + 4138575\n16  chromedriver                        0x000000010c08e1f8 chromedriver + 4407800\n17  chromedriver                        0x000000010c08e37f chromedriver + 4408191\n18  chromedriver                        0x000000010c0a4cb5 chromedriver + 4500661\n19  libsystem_pthread.dylib             0x00007fff6c3aa109 _pthread_start + 148\n20  libsystem_pthread.dylib             0x00007fff6c3a5b8b thread_start + 15\n"
     ]
    }
   ],
   "source": [
    "driver.find_element('//button[text()=\"Get Started\"]').click()\n",
    "driver.find_element_by_xpath('//button[text()=\"Import wallet\"]').click()\n",
    "driver.find_element_by_xpath('//button[text()=\"No Thanks\"]').click()"
   ]
  },
  {
   "cell_type": "code",
   "execution_count": 25,
   "metadata": {},
   "outputs": [
    {
     "name": "stderr",
     "output_type": "stream",
     "text": [
      "[WDM] - Downloading: 100%|██████████| 8.04M/8.04M [00:01<00:00, 6.86MB/s]\n",
      "/var/folders/8x/9rbcgb1x2472px6f0tsxdkn80000gn/T/ipykernel_25402/1503906442.py:1: DeprecationWarning: executable_path has been deprecated, please pass in a Service object\n",
      "  driver = webdriver.Chrome(ChromeDriverManager().install())\n"
     ]
    }
   ],
   "source": []
  },
  {
   "cell_type": "code",
   "execution_count": null,
   "metadata": {},
   "outputs": [],
   "source": []
  }
 ],
 "metadata": {
  "kernelspec": {
   "display_name": "Python 3.9.10 64-bit ('bot_crypto')",
   "language": "python",
   "name": "python3"
  },
  "language_info": {
   "codemirror_mode": {
    "name": "ipython",
    "version": 3
   },
   "file_extension": ".py",
   "mimetype": "text/x-python",
   "name": "python",
   "nbconvert_exporter": "python",
   "pygments_lexer": "ipython3",
   "version": "3.9.10"
  },
  "orig_nbformat": 4,
  "vscode": {
   "interpreter": {
    "hash": "0ab597b6535cdfc23b1d00d2b2172e0429214ff79c7d9807aa56341c66c5d817"
   }
  }
 },
 "nbformat": 4,
 "nbformat_minor": 2
}
