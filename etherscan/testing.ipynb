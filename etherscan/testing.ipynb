{
 "cells": [
  {
   "cell_type": "code",
   "execution_count": 10,
   "metadata": {},
   "outputs": [],
   "source": [
    "KEYS_E = \"UMAGCB1RZJRTJDGS4B4K58TYAV29G94KJ9\"\n",
    "\n",
    "BALANCE = {\"url\" : \"https://api.etherscan.io/api\",\n",
    "    \"module\" : \"?module=account\",\n",
    "    \"action\" : \"&action=balance\",\n",
    "    \"address\" : \"&address=0x2cA2B328a6394A5f4DfB06cA22B14f2882d49b85\",\n",
    "    \"tag\" : \"&tag=latest\",\n",
    "    \"apiK\" : \"&apikey=UMAGCB1RZJRTJDGS4B4K58TYAV29G94KJ9\"\n",
    "}"
   ]
  },
  {
   "cell_type": "code",
   "execution_count": 12,
   "metadata": {},
   "outputs": [
    {
     "name": "stdout",
     "output_type": "stream",
     "text": [
      "{'status': '1', 'message': 'OK', 'result': '17863929183219000'}\n"
     ]
    }
   ],
   "source": [
    "# importing the requests library\n",
    "import requests\n",
    "\n",
    "URL = BALANCE[\"url\"]+BALANCE[\"module\"]+BALANCE[\"action\"]+BALANCE[\"address\"]+BALANCE[\"tag\"]+BALANCE[\"apiK\"]\n",
    "# defining a params dict for the parameters to be sent to the API\n",
    "#PARAMS = {'address':\"0x2cA2B328a6394A5f4DfB06cA22B14f2882d49b85\",'tag':\"latest\"}\n",
    "  \n",
    "# sending get request and saving the response as response object\n",
    "r = requests.get(url = URL)\n",
    "  \n",
    "# extracting data in json format\n",
    "data = r.json()\n",
    "  \n",
    "print(data)"
   ]
  },
  {
   "cell_type": "code",
   "execution_count": null,
   "metadata": {},
   "outputs": [],
   "source": [
    "f\"https://api.etherscan.io/api?module=account&action=balance&address={}&tag=latest&apikey={}\""
   ]
  },
  {
   "cell_type": "code",
   "execution_count": 1,
   "metadata": {},
   "outputs": [],
   "source": [
    "raw_json = {\n",
    "            \"sim_ETH\":{\n",
    "                \"general\": 90,\n",
    "                \"google_trends\": 80,\n",
    "                \"Semblanza\": 90,\n",
    "                \"k-means\": 100,\n",
    "            },\n",
    "            \"sim_UNI\":{\n",
    "                \"general\": 100,\n",
    "                \"google_trends\": 100,\n",
    "                \"Semblanza\": 100,\n",
    "                \"k-means\": 100,\n",
    "            },\n",
    "        }"
   ]
  },
  {
   "cell_type": "code",
   "execution_count": 14,
   "metadata": {},
   "outputs": [],
   "source": [
    "import pandas as pd\n",
    "df = pd.DataFrame(columns=[\"token\",\"general\",\"google_trends\",\"Semblanza\",\"k-means\"])\n",
    "for x in raw_json.keys():\n",
    "    pre = {}\n",
    "    pre[\"token\"] = x\n",
    "    for y in raw_json[x].keys():\n",
    "        pre[y] = raw_json[x][y]\n",
    "    df = df.append(pre, ignore_index=True)"
   ]
  },
  {
   "cell_type": "code",
   "execution_count": 15,
   "metadata": {},
   "outputs": [
    {
     "data": {
      "text/html": [
       "<div>\n",
       "<style scoped>\n",
       "    .dataframe tbody tr th:only-of-type {\n",
       "        vertical-align: middle;\n",
       "    }\n",
       "\n",
       "    .dataframe tbody tr th {\n",
       "        vertical-align: top;\n",
       "    }\n",
       "\n",
       "    .dataframe thead th {\n",
       "        text-align: right;\n",
       "    }\n",
       "</style>\n",
       "<table border=\"1\" class=\"dataframe\">\n",
       "  <thead>\n",
       "    <tr style=\"text-align: right;\">\n",
       "      <th></th>\n",
       "      <th>token</th>\n",
       "      <th>general</th>\n",
       "      <th>google_trends</th>\n",
       "      <th>Semblanza</th>\n",
       "      <th>k-means</th>\n",
       "    </tr>\n",
       "  </thead>\n",
       "  <tbody>\n",
       "    <tr>\n",
       "      <th>0</th>\n",
       "      <td>sim_ETH</td>\n",
       "      <td>90</td>\n",
       "      <td>80</td>\n",
       "      <td>90</td>\n",
       "      <td>100</td>\n",
       "    </tr>\n",
       "    <tr>\n",
       "      <th>1</th>\n",
       "      <td>sim_UNI</td>\n",
       "      <td>100</td>\n",
       "      <td>100</td>\n",
       "      <td>100</td>\n",
       "      <td>100</td>\n",
       "    </tr>\n",
       "  </tbody>\n",
       "</table>\n",
       "</div>"
      ],
      "text/plain": [
       "     token general google_trends Semblanza k-means\n",
       "0  sim_ETH      90            80        90     100\n",
       "1  sim_UNI     100           100       100     100"
      ]
     },
     "execution_count": 15,
     "metadata": {},
     "output_type": "execute_result"
    }
   ],
   "source": [
    "df"
   ]
  },
  {
   "cell_type": "code",
   "execution_count": null,
   "metadata": {},
   "outputs": [],
   "source": []
  }
 ],
 "metadata": {
  "kernelspec": {
   "display_name": "Python 3.9.10 64-bit ('3.9.10')",
   "language": "python",
   "name": "python3"
  },
  "language_info": {
   "codemirror_mode": {
    "name": "ipython",
    "version": 3
   },
   "file_extension": ".py",
   "mimetype": "text/x-python",
   "name": "python",
   "nbconvert_exporter": "python",
   "pygments_lexer": "ipython3",
   "version": "3.9.10"
  },
  "orig_nbformat": 4,
  "vscode": {
   "interpreter": {
    "hash": "fbac144b77669f91cd392640dbf8ef8c3cda88039964c9550325cfe7aa161d42"
   }
  }
 },
 "nbformat": 4,
 "nbformat_minor": 2
}
