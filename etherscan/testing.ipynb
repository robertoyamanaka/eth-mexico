{
 "cells": [
  {
   "cell_type": "code",
   "execution_count": 10,
   "metadata": {},
   "outputs": [],
   "source": [
    "KEYS_E = \"UMAGCB1RZJRTJDGS4B4K58TYAV29G94KJ9\"\n",
    "\n",
    "BALANCE = {\"url\" : \"https://api.etherscan.io/api\",\n",
    "    \"module\" : \"?module=account\",\n",
    "    \"action\" : \"&action=balance\",\n",
    "    \"address\" : \"&address=0x2cA2B328a6394A5f4DfB06cA22B14f2882d49b85\",\n",
    "    \"tag\" : \"&tag=latest\",\n",
    "    \"apiK\" : \"&apikey=UMAGCB1RZJRTJDGS4B4K58TYAV29G94KJ9\"\n",
    "}"
   ]
  },
  {
   "cell_type": "code",
   "execution_count": 12,
   "metadata": {},
   "outputs": [
    {
     "name": "stdout",
     "output_type": "stream",
     "text": [
      "{'status': '1', 'message': 'OK', 'result': '17863929183219000'}\n"
     ]
    }
   ],
   "source": [
    "# importing the requests library\n",
    "import requests\n",
    "\n",
    "URL = BALANCE[\"url\"]+BALANCE[\"module\"]+BALANCE[\"action\"]+BALANCE[\"address\"]+BALANCE[\"tag\"]+BALANCE[\"apiK\"]\n",
    "# defining a params dict for the parameters to be sent to the API\n",
    "#PARAMS = {'address':\"0x2cA2B328a6394A5f4DfB06cA22B14f2882d49b85\",'tag':\"latest\"}\n",
    "  \n",
    "# sending get request and saving the response as response object\n",
    "r = requests.get(url = URL)\n",
    "  \n",
    "# extracting data in json format\n",
    "data = r.json()\n",
    "  \n",
    "print(data)"
   ]
  },
  {
   "cell_type": "code",
   "execution_count": null,
   "metadata": {},
   "outputs": [],
   "source": [
    "f\"https://api.etherscan.io/api?module=account&action=balance&address={}&tag=latest&apikey={}\""
   ]
  },
  {
   "cell_type": "code",
   "execution_count": 6,
   "metadata": {},
   "outputs": [],
   "source": [
    "from web3 import Web3\n",
    "w3 = Web3(Web3.HTTPProvider(\"https://mainnet.infura.io/v3/9d1531357b394722ae57f66d3504883f\"))\n",
    "\n",
    "#w3.eth.get_transaction('0x2cA2B328a6394A5f4DfB06cA22B14f2882d49b85')"
   ]
  },
  {
   "cell_type": "code",
   "execution_count": 7,
   "metadata": {},
   "outputs": [
    {
     "data": {
      "text/plain": [
       "3"
      ]
     },
     "execution_count": 7,
     "metadata": {},
     "output_type": "execute_result"
    }
   ],
   "source": [
    "w3.eth.get_transaction_count('0x2cA2B328a6394A5f4DfB06cA22B14f2882d49b85')"
   ]
  },
  {
   "cell_type": "code",
   "execution_count": null,
   "metadata": {},
   "outputs": [],
   "source": []
  }
 ],
 "metadata": {
  "kernelspec": {
   "display_name": "Python 3.9.10 64-bit ('bot_crypto')",
   "language": "python",
   "name": "python3"
  },
  "language_info": {
   "codemirror_mode": {
    "name": "ipython",
    "version": 3
   },
   "file_extension": ".py",
   "mimetype": "text/x-python",
   "name": "python",
   "nbconvert_exporter": "python",
   "pygments_lexer": "ipython3",
   "version": "3.9.10"
  },
  "orig_nbformat": 4,
  "vscode": {
   "interpreter": {
    "hash": "0ab597b6535cdfc23b1d00d2b2172e0429214ff79c7d9807aa56341c66c5d817"
   }
  }
 },
 "nbformat": 4,
 "nbformat_minor": 2
}
