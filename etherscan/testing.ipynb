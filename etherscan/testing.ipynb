{
 "cells": [
  {
   "cell_type": "code",
   "execution_count": 2,
   "metadata": {},
   "outputs": [],
   "source": [
    "KEYS_E = \"UMAGCB1RZJRTJDGS4B4K58TYAV29G94KJ9\"\n",
    "\n",
    "BALANCE = {\"url\" : \"https://api.etherscan.io/api\",\n",
    "    \"module\" : \"?module=account\",\n",
    "    \"action\" : \"&action=balance\",\n",
    "    \"address\" : \"&address=\",\n",
    "    \"tag\" : \"&tag=latest\",\n",
    "    \"apiK\" : \"&apikey=\"\n",
    "}"
   ]
  },
  {
   "cell_type": "code",
   "execution_count": 3,
   "metadata": {},
   "outputs": [],
   "source": [
    "BALANCE[\"address\"] += \"0x2cA2B328a6394A5f4DfB06cA22B14f2882d49b85\"\n",
    "BALANCE[\"apiK\"] += KEYS_E"
   ]
  },
  {
   "cell_type": "code",
   "execution_count": 7,
   "metadata": {},
   "outputs": [
    {
     "name": "stdout",
     "output_type": "stream",
     "text": [
      "{'status': '0', 'message': 'NOTOK', 'result': 'Max rate limit reached, please use API Key for higher rate limit'}\n"
     ]
    }
   ],
   "source": [
    "# importing the requests library\n",
    "import requests\n",
    "\n",
    "URL = BALANCE[\"url\"]\n",
    "# defining a params dict for the parameters to be sent to the API\n",
    "PARAMS = {'address':\"0x2cA2B328a6394A5f4DfB06cA22B14f2882d49b85\",'tag':\"latest\"}\n",
    "  \n",
    "# sending get request and saving the response as response object\n",
    "r = requests.get(url = URL, params = PARAMS)\n",
    "  \n",
    "# extracting data in json format\n",
    "data = r.json()\n",
    "  \n",
    "print(data)"
   ]
  },
  {
   "cell_type": "code",
   "execution_count": null,
   "metadata": {},
   "outputs": [],
   "source": []
  }
 ],
 "metadata": {
  "kernelspec": {
   "display_name": "Python 3.9.10 64-bit ('3.9.10')",
   "language": "python",
   "name": "python3"
  },
  "language_info": {
   "codemirror_mode": {
    "name": "ipython",
    "version": 3
   },
   "file_extension": ".py",
   "mimetype": "text/x-python",
   "name": "python",
   "nbconvert_exporter": "python",
   "pygments_lexer": "ipython3",
   "version": "3.9.10"
  },
  "orig_nbformat": 4,
  "vscode": {
   "interpreter": {
    "hash": "fbac144b77669f91cd392640dbf8ef8c3cda88039964c9550325cfe7aa161d42"
   }
  }
 },
 "nbformat": 4,
 "nbformat_minor": 2
}
